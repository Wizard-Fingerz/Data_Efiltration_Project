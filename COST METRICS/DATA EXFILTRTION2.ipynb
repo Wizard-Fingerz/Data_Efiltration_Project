{
 "cells": [
  {
   "cell_type": "markdown",
   "metadata": {},
   "source": [
    "# Import Libraries"
   ]
  },
  {
   "cell_type": "code",
   "execution_count": 99,
   "metadata": {},
   "outputs": [],
   "source": [
    "import pandas as pd\n",
    "import numpy as np\n",
    "from sklearn.model_selection import train_test_split\n",
    "from sklearn.ensemble import RandomForestClassifier\n",
    "from sklearn.tree import DecisionTreeClassifier\n",
    "from sklearn.ensemble import AdaBoostClassifier\n",
    "from sklearn.svm import SVC\n",
    "from sklearn.ensemble import GradientBoostingClassifier\n",
    "from sklearn.linear_model import SGDClassifier\n",
    "from sklearn.linear_model import LogisticRegression\n",
    "from sklearn.metrics import f1_score,accuracy_score\n",
    "from sklearn import metrics"
   ]
  },
  {
   "cell_type": "markdown",
   "metadata": {},
   "source": [
    "# Import Dataset"
   ]
  },
  {
   "cell_type": "code",
   "execution_count": 100,
   "metadata": {},
   "outputs": [
    {
     "name": "stdout",
     "output_type": "stream",
     "text": [
      "        stime  flgs  proto  sport  dport  pkts  bytes  state       ltime  seq  \\\n",
      "0  1529283982  1000    100    138    138     4    986   1000  1529285063   15   \n",
      "1  1529283953  1000    200  60864    443    12   1053   2000  1529284065   12   \n",
      "2  1529284104  1000    100    138    138     4   1086   1000  1529284835   23   \n",
      "3  1529283913  1000    300  40279    135    26   1560   3000  1529285076   10   \n",
      "4  1529284204  1000    200  36682     22    28   5098   2000  1529284204   30   \n",
      "\n",
      "   ...       max  spkts  dpkts  sbytes  dbytes       rate      srate  \\\n",
      "0  ...  0.000000      4      0     986       0   0.002777   0.002777   \n",
      "1  ...  0.044681      8      4     697     356   0.098173   0.062473   \n",
      "2  ...  0.000108      4      0    1086       0   0.004102   0.004102   \n",
      "3  ...  0.000164     13     13     780     780   0.021496   0.010318   \n",
      "4  ...  0.489598     13     15    1640    3458  55.147282  24.509903   \n",
      "\n",
      "       drate  attack    attack_category  \n",
      "0   0.000000       0             Normal  \n",
      "1   0.026774       0             Normal  \n",
      "2   0.000000       0             Normal  \n",
      "3   0.010318       1  Data_Exfiltration  \n",
      "4  28.594887       1  Data_Exfiltration  \n",
      "\n",
      "[5 rows x 25 columns]\n"
     ]
    }
   ],
   "source": [
    "df = pd.read_csv('Data_exfiltration Dataset UPDATED.csv')\n",
    "print(df.head())"
   ]
  },
  {
   "cell_type": "markdown",
   "metadata": {},
   "source": [
    "# Preparing Dataset for training"
   ]
  },
  {
   "cell_type": "code",
   "execution_count": 101,
   "metadata": {},
   "outputs": [],
   "source": [
    "dataset = df.dropna()"
   ]
  },
  {
   "cell_type": "code",
   "execution_count": 102,
   "metadata": {},
   "outputs": [],
   "source": [
    "X = dataset.iloc[:, 0:23].values\n",
    "y = dataset.iloc[:, 23].values"
   ]
  },
  {
   "cell_type": "code",
   "execution_count": 103,
   "metadata": {},
   "outputs": [
    {
     "name": "stdout",
     "output_type": "stream",
     "text": [
      "[1 0 1 1 0 0 1 0 1 1 1 1 1 1 1 1 1 1 1 1 1 1 1 1 0 1 1 1 1 1 0 0 1 0 1 1 0\n",
      " 1]\n"
     ]
    }
   ],
   "source": [
    "X_train, X_test, y_train, y_test = train_test_split(X, y, test_size=0.2, random_state=1)\n",
    "print(y_test)"
   ]
  },
  {
   "cell_type": "markdown",
   "metadata": {},
   "source": [
    "# Training Random Forest Algorithm"
   ]
  },
  {
   "cell_type": "code",
   "execution_count": 104,
   "metadata": {},
   "outputs": [
    {
     "name": "stdout",
     "output_type": "stream",
     "text": [
      "[1 0 1 1 0 0 1 0 1 1 0 1 1 0 1 1 1 0 1 1 1 1 1 1 0 1 1 1 1 1 0 0 1 0 1 1 0\n",
      " 1]\n"
     ]
    }
   ],
   "source": [
    "rf = RandomForestClassifier()\n",
    "rf.fit(X_train, y_train)\n",
    "rf_y_pred = rf.predict(X_test)\n",
    "print(rf_y_pred)"
   ]
  },
  {
   "cell_type": "code",
   "execution_count": 105,
   "metadata": {},
   "outputs": [
    {
     "name": "stdout",
     "output_type": "stream",
     "text": [
      "[1 0 1 1 0 0 1 0 1 1 1 1 1 0 1 1 1 1 1 1 0 1 1 1 0 1 1 1 1 1 0 0 1 0 1 1 0\n",
      " 1]\n"
     ]
    }
   ],
   "source": [
    "tree = DecisionTreeClassifier()\n",
    "tree.fit(X_train, y_train)\n",
    "tree_y_pred = tree.predict(X_test)\n",
    "print(tree_y_pred)"
   ]
  },
  {
   "cell_type": "markdown",
   "metadata": {},
   "source": [
    "# AdaBoost Algorithm"
   ]
  },
  {
   "cell_type": "code",
   "execution_count": 106,
   "metadata": {},
   "outputs": [
    {
     "name": "stdout",
     "output_type": "stream",
     "text": [
      "[1 0 1 1 0 0 1 0 1 1 1 1 1 1 1 1 1 1 1 1 1 1 1 1 0 1 1 1 1 1 0 0 1 0 1 1 0\n",
      " 1]\n"
     ]
    }
   ],
   "source": [
    "ada = AdaBoostClassifier(random_state = 1)\n",
    "ada.fit(X_train, y_train)\n",
    "ada_y_pred = ada.predict(X_test)\n",
    "print(ada_y_pred)"
   ]
  },
  {
   "cell_type": "markdown",
   "metadata": {},
   "source": [
    "# Support VECTOR Machine"
   ]
  },
  {
   "cell_type": "code",
   "execution_count": 107,
   "metadata": {},
   "outputs": [
    {
     "name": "stdout",
     "output_type": "stream",
     "text": [
      "[1 1 1 1 1 1 1 1 1 1 1 1 1 1 1 1 1 1 1 1 1 1 1 1 1 1 1 1 1 1 1 1 1 1 1 1 1\n",
      " 1]\n"
     ]
    }
   ],
   "source": [
    "svc =  SVC()\n",
    "svc.fit(X_train, y_train)\n",
    "svc_y_pred = svc.predict(X_test)\n",
    "print(svc_y_pred)"
   ]
  },
  {
   "cell_type": "markdown",
   "metadata": {},
   "source": [
    "# GradientBoostingRegressor"
   ]
  },
  {
   "cell_type": "code",
   "execution_count": 108,
   "metadata": {},
   "outputs": [
    {
     "name": "stdout",
     "output_type": "stream",
     "text": [
      "[1 0 1 1 0 0 1 0 1 1 1 1 1 0 1 1 1 1 1 1 1 1 1 1 0 1 1 1 1 1 0 0 1 0 1 1 0\n",
      " 1]\n"
     ]
    }
   ],
   "source": [
    "gb = GradientBoostingClassifier()\n",
    "gb.fit(X_train, y_train)\n",
    "gb_y_pred = gb.predict(X_test)\n",
    "print(gb_y_pred)"
   ]
  },
  {
   "cell_type": "markdown",
   "metadata": {},
   "source": [
    "# SDG Regressor"
   ]
  },
  {
   "cell_type": "code",
   "execution_count": 109,
   "metadata": {},
   "outputs": [
    {
     "name": "stdout",
     "output_type": "stream",
     "text": [
      "[1 1 1 1 1 1 1 1 1 1 0 1 1 0 1 1 1 1 1 1 1 1 1 1 1 1 1 1 1 1 1 1 1 1 1 1 1\n",
      " 1]\n"
     ]
    }
   ],
   "source": [
    "sdg =  SGDClassifier()\n",
    "sdg.fit(X_train, y_train)\n",
    "sdg_y_pred = sdg.predict(X_test)\n",
    "print(sdg_y_pred)"
   ]
  },
  {
   "cell_type": "code",
   "execution_count": 110,
   "metadata": {},
   "outputs": [
    {
     "name": "stdout",
     "output_type": "stream",
     "text": [
      "[1 1 1 1 1 0 1 0 1 1 0 1 1 0 1 1 1 1 1 1 0 1 1 1 1 1 1 1 1 1 0 0 1 0 1 1 0\n",
      " 1]\n"
     ]
    }
   ],
   "source": [
    "lr = LogisticRegression(solver='lbfgs', max_iter=200)\n",
    "lr.fit(X_train, y_train)\n",
    "lr_y_pred = lr.predict(X_test)\n",
    "print(lr_y_pred)"
   ]
  },
  {
   "cell_type": "markdown",
   "metadata": {},
   "source": [
    "# Export Result"
   ]
  },
  {
   "cell_type": "markdown",
   "metadata": {},
   "source": []
  },
  {
   "cell_type": "code",
   "execution_count": 111,
   "metadata": {},
   "outputs": [
    {
     "name": "stdout",
     "output_type": "stream",
     "text": [
      "RANDOM FOREST R2 Score: 0.5632183908045976\n",
      "RANDOM FOREST Mean Absolute Error: 0.07894736842105263\n",
      "RANDOM FOREST Mean Squared Error: 0.07894736842105263\n",
      "RANDOM FOREST Root Mean Squared Error: 0.28097574347450816\n",
      "ADABOOST R2 Score: 0.7088122605363985\n",
      "ADABOOST Mean Absolute Error: 0.0\n",
      "ADABOOST Mean Squared Error: 0.0\n",
      "ADABOOST Root Mean Squared Error: 0.0\n",
      "DECISION TREE R2 Score: 0.7088122605363985\n",
      "DECISION TREE Mean Absolute Error: 0.05263157894736842\n",
      "DECISION TREE Mean Squared Error: 0.05263157894736842\n",
      "DECISION TREE Root Mean Squared Error: 0.22941573387056177\n",
      "SVM R2 Score: -0.3103448275862071\n",
      "SVM Mean Absolute Error: 0.23684210526315788\n",
      "SVM Mean Squared Error: 0.23684210526315788\n",
      "SVM Root Mean Squared Error: 0.4866642633922876\n",
      "GB R2 Score: 0.8544061302681992\n",
      "GB Mean Absolute Error: 0.02631578947368421\n",
      "GB Mean Squared Error: 0.02631578947368421\n",
      "GB Root Mean Squared Error: 0.16222142113076254\n",
      "SDG R2 Score: -0.6015325670498086\n",
      "SDG Mean Absolute Error: 0.2894736842105263\n",
      "SDG Mean Squared Error: 0.2894736842105263\n",
      "SDG Root Mean Squared Error: 0.5380275868489703\n",
      "LR R2 Score: 0.12643678160919525\n",
      "LR Mean Absolute Error: 0.15789473684210525\n",
      "LR Mean Squared Error: 0.15789473684210525\n",
      "LR Root Mean Squared Error: 0.39735970711951313\n"
     ]
    }
   ],
   "source": [
    "from sklearn import metrics\n",
    "print('RANDOM FOREST R2 Score:', metrics.r2_score(y_test,rf_y_pred))\n",
    "print('RANDOM FOREST Mean Absolute Error:', metrics.mean_absolute_error(y_test,rf_y_pred))\n",
    "print('RANDOM FOREST Mean Squared Error:', metrics.mean_squared_error(y_test,rf_y_pred))\n",
    "print('RANDOM FOREST Root Mean Squared Error:', np.sqrt(metrics.mean_squared_error(y_test,rf_y_pred)))\n",
    "\n",
    "print('ADABOOST R2 Score:', metrics.r2_score(y_test,tree_y_pred))\n",
    "print('ADABOOST Mean Absolute Error:', metrics.mean_absolute_error(y_test,ada_y_pred))\n",
    "print('ADABOOST Mean Squared Error:', metrics.mean_squared_error(y_test,ada_y_pred))\n",
    "print('ADABOOST Root Mean Squared Error:', np.sqrt(metrics.mean_squared_error(y_test,ada_y_pred)))\n",
    "\n",
    "print('DECISION TREE R2 Score:', metrics.r2_score(y_test,tree_y_pred))\n",
    "print('DECISION TREE Mean Absolute Error:', metrics.mean_absolute_error(y_test,tree_y_pred))\n",
    "print('DECISION TREE Mean Squared Error:', metrics.mean_squared_error(y_test,tree_y_pred))\n",
    "print('DECISION TREE Root Mean Squared Error:', np.sqrt(metrics.mean_squared_error(y_test,tree_y_pred)))\n",
    "\n",
    "print('SVM R2 Score:', metrics.r2_score(y_test,svc_y_pred))\n",
    "print('SVM Mean Absolute Error:', metrics.mean_absolute_error(y_test,svc_y_pred))\n",
    "print('SVM Mean Squared Error:', metrics.mean_squared_error(y_test,svc_y_pred))\n",
    "print('SVM Root Mean Squared Error:', np.sqrt(metrics.mean_squared_error(y_test,svc_y_pred)))\n",
    "\n",
    "print('GB R2 Score:', metrics.r2_score(y_test,gb_y_pred))\n",
    "print('GB Mean Absolute Error:', metrics.mean_absolute_error(y_test,gb_y_pred))\n",
    "print('GB Mean Squared Error:', metrics.mean_squared_error(y_test,gb_y_pred))\n",
    "print('GB Root Mean Squared Error:', np.sqrt(metrics.mean_squared_error(y_test,gb_y_pred)))\n",
    "\n",
    "print('SDG R2 Score:', metrics.r2_score(y_test,sdg_y_pred))\n",
    "print('SDG Mean Absolute Error:', metrics.mean_absolute_error(y_test,sdg_y_pred))\n",
    "print('SDG Mean Squared Error:', metrics.mean_squared_error(y_test,sdg_y_pred))\n",
    "print('SDG Root Mean Squared Error:', np.sqrt(metrics.mean_squared_error(y_test,sdg_y_pred)))\n",
    "\n",
    "print('LR R2 Score:', metrics.r2_score(y_test,lr_y_pred))\n",
    "print('LR Mean Absolute Error:', metrics.mean_absolute_error(y_test,lr_y_pred))\n",
    "print('LR Mean Squared Error:', metrics.mean_squared_error(y_test,lr_y_pred))\n",
    "print('LR Root Mean Squared Error:', np.sqrt(metrics.mean_squared_error(y_test,lr_y_pred)))"
   ]
  },
  {
   "cell_type": "code",
   "execution_count": null,
   "metadata": {},
   "outputs": [],
   "source": []
  },
  {
   "cell_type": "code",
   "execution_count": null,
   "metadata": {},
   "outputs": [],
   "source": []
  },
  {
   "cell_type": "code",
   "execution_count": null,
   "metadata": {},
   "outputs": [],
   "source": []
  },
  {
   "cell_type": "code",
   "execution_count": null,
   "metadata": {},
   "outputs": [],
   "source": []
  }
 ],
 "metadata": {
  "kernelspec": {
   "display_name": "Python 3 (ipykernel)",
   "language": "python",
   "name": "python3"
  },
  "language_info": {
   "codemirror_mode": {
    "name": "ipython",
    "version": 3
   },
   "file_extension": ".py",
   "mimetype": "text/x-python",
   "name": "python",
   "nbconvert_exporter": "python",
   "pygments_lexer": "ipython3",
   "version": "3.9.12"
  }
 },
 "nbformat": 4,
 "nbformat_minor": 2
}
