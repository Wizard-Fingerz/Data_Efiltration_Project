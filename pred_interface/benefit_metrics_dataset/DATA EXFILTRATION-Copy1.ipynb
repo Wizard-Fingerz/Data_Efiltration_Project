{
 "cells": [
  {
   "cell_type": "markdown",
   "metadata": {},
   "source": [
    "# Import Libraries"
   ]
  },
  {
   "cell_type": "code",
   "execution_count": 12,
   "metadata": {},
   "outputs": [],
   "source": [
    "import pandas as pd\n",
    "import numpy as np\n",
    "from sklearn.model_selection import train_test_split\n",
    "from sklearn.ensemble import RandomForestClassifier\n",
    "from sklearn.tree import DecisionTreeClassifier\n",
    "from sklearn.ensemble import AdaBoostClassifier\n",
    "from sklearn.svm import SVC\n",
    "from sklearn.ensemble import GradientBoostingClassifier\n",
    "from sklearn.linear_model import SGDClassifier\n",
    "from sklearn.linear_model import LogisticRegression\n",
    "from sklearn.metrics import f1_score,accuracy_score\n",
    "from sklearn import metrics"
   ]
  },
  {
   "cell_type": "markdown",
   "metadata": {},
   "source": [
    "# Import Dataset"
   ]
  },
  {
   "cell_type": "code",
   "execution_count": 13,
   "metadata": {},
   "outputs": [
    {
     "name": "stdout",
     "output_type": "stream",
     "text": [
      "        stime  flgs  proto  sport  dport  pkts  bytes  state       ltime  seq  \\\n",
      "0  1529283982  1000    100    138    138     4    986   1000  1529285063   15   \n",
      "1  1529283953  1000    200  60864    443    12   1053   2000  1529284065   12   \n",
      "2  1529284104  1000    100    138    138     4   1086   1000  1529284835   23   \n",
      "3  1529283913  1000    300  40279    135    26   1560   3000  1529285076   10   \n",
      "4  1529284204  1000    200  36682     22    28   5098   2000  1529284204   30   \n",
      "\n",
      "   ...       min       max  spkts  dpkts  sbytes  dbytes       rate  \\\n",
      "0  ...  0.000000  0.000000      4      0     986       0   0.002777   \n",
      "1  ...  0.005787  0.044681      8      4     697     356   0.098173   \n",
      "2  ...  0.000101  0.000108      4      0    1086       0   0.004102   \n",
      "3  ...  0.000082  0.000164     13     13     780     780   0.021496   \n",
      "4  ...  0.489598  0.489598     13     15    1640    3458  55.147282   \n",
      "\n",
      "       srate      drate    Attack category  \n",
      "0   0.002777   0.000000             Normal  \n",
      "1   0.062473   0.026774             Normal  \n",
      "2   0.004102   0.000000             Normal  \n",
      "3   0.010318   0.010318  Data_Exfiltration  \n",
      "4  24.509903  28.594887  Data_Exfiltration  \n",
      "\n",
      "[5 rows x 24 columns]\n"
     ]
    }
   ],
   "source": [
    "df = pd.read_csv('Data_exfiltration Dataset FINAL UPDATED.csv')\n",
    "print(df.head())"
   ]
  },
  {
   "cell_type": "markdown",
   "metadata": {},
   "source": [
    "# Preparing Dataset for training"
   ]
  },
  {
   "cell_type": "code",
   "execution_count": 14,
   "metadata": {},
   "outputs": [],
   "source": [
    "dataset = df.dropna()"
   ]
  },
  {
   "cell_type": "code",
   "execution_count": 15,
   "metadata": {},
   "outputs": [],
   "source": [
    "X = dataset.iloc[:, 0:23].values\n",
    "y = dataset.iloc[:, 23].values"
   ]
  },
  {
   "cell_type": "code",
   "execution_count": 16,
   "metadata": {},
   "outputs": [
    {
     "name": "stdout",
     "output_type": "stream",
     "text": [
      "['Normal' 'Data_Exfiltration' 'Data_Exfiltration' 'Data_Exfiltration'\n",
      " 'Normal' 'Data_Exfiltration' 'Data_Exfiltration' 'Data_Exfiltration'\n",
      " 'Normal' 'Data_Exfiltration' 'Normal' 'Data_Exfiltration'\n",
      " 'Data_Exfiltration' 'Data_Exfiltration' 'Data_Exfiltration'\n",
      " 'Data_Exfiltration' 'Normal' 'Data_Exfiltration' 'Data_Exfiltration'\n",
      " 'Data_Exfiltration' 'Data_Exfiltration' 'Normal' 'Data_Exfiltration'\n",
      " 'Data_Exfiltration' 'Data_Exfiltration' 'Normal' 'Data_Exfiltration'\n",
      " 'Data_Exfiltration' 'Normal' 'Data_Exfiltration' 'Data_Exfiltration'\n",
      " 'Normal' 'Normal' 'Data_Exfiltration' 'Data_Exfiltration' 'Normal'\n",
      " 'Data_Exfiltration' 'Normal']\n"
     ]
    }
   ],
   "source": [
    "X_train, X_test, y_train, y_test = train_test_split(X, y, test_size=0.2)\n",
    "print(y_test)"
   ]
  },
  {
   "cell_type": "markdown",
   "metadata": {},
   "source": [
    "# Training Random Forest Algorithm"
   ]
  },
  {
   "cell_type": "code",
   "execution_count": 17,
   "metadata": {},
   "outputs": [
    {
     "name": "stdout",
     "output_type": "stream",
     "text": [
      "['Normal' 'Data_Exfiltration' 'Data_Exfiltration' 'Data_Exfiltration'\n",
      " 'Normal' 'Data_Exfiltration' 'Data_Exfiltration' 'Data_Exfiltration'\n",
      " 'Normal' 'Data_Exfiltration' 'Normal' 'Data_Exfiltration'\n",
      " 'Data_Exfiltration' 'Data_Exfiltration' 'Data_Exfiltration'\n",
      " 'Data_Exfiltration' 'Normal' 'Data_Exfiltration' 'Data_Exfiltration'\n",
      " 'Data_Exfiltration' 'Data_Exfiltration' 'Normal' 'Data_Exfiltration'\n",
      " 'Data_Exfiltration' 'Data_Exfiltration' 'Normal' 'Data_Exfiltration'\n",
      " 'Data_Exfiltration' 'Normal' 'Data_Exfiltration' 'Data_Exfiltration'\n",
      " 'Normal' 'Normal' 'Data_Exfiltration' 'Data_Exfiltration' 'Normal'\n",
      " 'Data_Exfiltration' 'Normal']\n"
     ]
    }
   ],
   "source": [
    "rf = RandomForestClassifier()\n",
    "rf.fit(X_train, y_train)\n",
    "rf_y_pred = rf.predict(X_test)\n",
    "print(rf_y_pred)"
   ]
  },
  {
   "cell_type": "code",
   "execution_count": 18,
   "metadata": {},
   "outputs": [
    {
     "name": "stdout",
     "output_type": "stream",
     "text": [
      "['Normal' 'Data_Exfiltration' 'Data_Exfiltration' 'Data_Exfiltration'\n",
      " 'Normal' 'Data_Exfiltration' 'Data_Exfiltration' 'Data_Exfiltration'\n",
      " 'Normal' 'Data_Exfiltration' 'Normal' 'Data_Exfiltration'\n",
      " 'Data_Exfiltration' 'Data_Exfiltration' 'Data_Exfiltration'\n",
      " 'Data_Exfiltration' 'Normal' 'Data_Exfiltration' 'Data_Exfiltration'\n",
      " 'Data_Exfiltration' 'Data_Exfiltration' 'Normal' 'Data_Exfiltration'\n",
      " 'Data_Exfiltration' 'Data_Exfiltration' 'Normal' 'Data_Exfiltration'\n",
      " 'Data_Exfiltration' 'Normal' 'Data_Exfiltration' 'Data_Exfiltration'\n",
      " 'Normal' 'Normal' 'Data_Exfiltration' 'Data_Exfiltration' 'Normal'\n",
      " 'Data_Exfiltration' 'Normal']\n"
     ]
    }
   ],
   "source": [
    "tree = DecisionTreeClassifier()\n",
    "tree.fit(X_train, y_train)\n",
    "tree_y_pred = tree.predict(X_test)\n",
    "print(tree_y_pred)"
   ]
  },
  {
   "cell_type": "markdown",
   "metadata": {},
   "source": [
    "# AdaBoost Algorithm"
   ]
  },
  {
   "cell_type": "code",
   "execution_count": 19,
   "metadata": {},
   "outputs": [
    {
     "name": "stdout",
     "output_type": "stream",
     "text": [
      "['Normal' 'Data_Exfiltration' 'Data_Exfiltration' 'Data_Exfiltration'\n",
      " 'Normal' 'Data_Exfiltration' 'Data_Exfiltration' 'Data_Exfiltration'\n",
      " 'Normal' 'Data_Exfiltration' 'Normal' 'Data_Exfiltration'\n",
      " 'Data_Exfiltration' 'Data_Exfiltration' 'Data_Exfiltration'\n",
      " 'Data_Exfiltration' 'Normal' 'Data_Exfiltration' 'Data_Exfiltration'\n",
      " 'Data_Exfiltration' 'Data_Exfiltration' 'Normal' 'Data_Exfiltration'\n",
      " 'Data_Exfiltration' 'Data_Exfiltration' 'Normal' 'Data_Exfiltration'\n",
      " 'Data_Exfiltration' 'Normal' 'Data_Exfiltration' 'Data_Exfiltration'\n",
      " 'Normal' 'Normal' 'Data_Exfiltration' 'Data_Exfiltration' 'Normal'\n",
      " 'Data_Exfiltration' 'Normal']\n"
     ]
    }
   ],
   "source": [
    "ada = AdaBoostClassifier(random_state = 1)\n",
    "ada.fit(X_train, y_train)\n",
    "ada_y_pred = ada.predict(X_test)\n",
    "print(ada_y_pred)"
   ]
  },
  {
   "cell_type": "markdown",
   "metadata": {},
   "source": [
    "# Support VECTOR Machine"
   ]
  },
  {
   "cell_type": "code",
   "execution_count": 20,
   "metadata": {},
   "outputs": [
    {
     "name": "stdout",
     "output_type": "stream",
     "text": [
      "['Data_Exfiltration' 'Data_Exfiltration' 'Data_Exfiltration'\n",
      " 'Data_Exfiltration' 'Data_Exfiltration' 'Data_Exfiltration'\n",
      " 'Data_Exfiltration' 'Data_Exfiltration' 'Data_Exfiltration'\n",
      " 'Data_Exfiltration' 'Data_Exfiltration' 'Data_Exfiltration'\n",
      " 'Data_Exfiltration' 'Data_Exfiltration' 'Data_Exfiltration'\n",
      " 'Data_Exfiltration' 'Data_Exfiltration' 'Data_Exfiltration'\n",
      " 'Data_Exfiltration' 'Data_Exfiltration' 'Data_Exfiltration'\n",
      " 'Data_Exfiltration' 'Data_Exfiltration' 'Data_Exfiltration'\n",
      " 'Data_Exfiltration' 'Data_Exfiltration' 'Data_Exfiltration'\n",
      " 'Data_Exfiltration' 'Data_Exfiltration' 'Data_Exfiltration'\n",
      " 'Data_Exfiltration' 'Data_Exfiltration' 'Data_Exfiltration'\n",
      " 'Data_Exfiltration' 'Data_Exfiltration' 'Data_Exfiltration'\n",
      " 'Data_Exfiltration' 'Data_Exfiltration']\n"
     ]
    }
   ],
   "source": [
    "svc =  SVC()\n",
    "svc.fit(X_train, y_train)\n",
    "svc_y_pred = svc.predict(X_test)\n",
    "print(svc_y_pred)"
   ]
  },
  {
   "cell_type": "markdown",
   "metadata": {},
   "source": [
    "# GradientBoostingRegressor"
   ]
  },
  {
   "cell_type": "code",
   "execution_count": 21,
   "metadata": {},
   "outputs": [
    {
     "name": "stdout",
     "output_type": "stream",
     "text": [
      "['Normal' 'Data_Exfiltration' 'Data_Exfiltration' 'Data_Exfiltration'\n",
      " 'Normal' 'Data_Exfiltration' 'Data_Exfiltration' 'Data_Exfiltration'\n",
      " 'Normal' 'Data_Exfiltration' 'Normal' 'Data_Exfiltration'\n",
      " 'Data_Exfiltration' 'Data_Exfiltration' 'Data_Exfiltration'\n",
      " 'Data_Exfiltration' 'Normal' 'Data_Exfiltration' 'Data_Exfiltration'\n",
      " 'Data_Exfiltration' 'Data_Exfiltration' 'Normal' 'Data_Exfiltration'\n",
      " 'Data_Exfiltration' 'Data_Exfiltration' 'Normal' 'Data_Exfiltration'\n",
      " 'Data_Exfiltration' 'Normal' 'Data_Exfiltration' 'Data_Exfiltration'\n",
      " 'Normal' 'Normal' 'Data_Exfiltration' 'Data_Exfiltration' 'Normal'\n",
      " 'Data_Exfiltration' 'Normal']\n"
     ]
    }
   ],
   "source": [
    "gb = GradientBoostingClassifier()\n",
    "gb.fit(X_train, y_train)\n",
    "gb_y_pred = gb.predict(X_test)\n",
    "print(gb_y_pred)"
   ]
  },
  {
   "cell_type": "markdown",
   "metadata": {},
   "source": [
    "# SDG Regressor"
   ]
  },
  {
   "cell_type": "code",
   "execution_count": 22,
   "metadata": {},
   "outputs": [
    {
     "name": "stdout",
     "output_type": "stream",
     "text": [
      "['Normal' 'Normal' 'Normal' 'Normal' 'Normal' 'Normal' 'Normal' 'Normal'\n",
      " 'Normal' 'Normal' 'Normal' 'Normal' 'Normal' 'Normal' 'Normal' 'Normal'\n",
      " 'Normal' 'Normal' 'Normal' 'Normal' 'Normal' 'Normal' 'Normal' 'Normal'\n",
      " 'Normal' 'Normal' 'Normal' 'Normal' 'Normal' 'Normal' 'Normal' 'Normal'\n",
      " 'Normal' 'Normal' 'Normal' 'Normal' 'Normal' 'Normal']\n"
     ]
    }
   ],
   "source": [
    "sgd =  SGDClassifier()\n",
    "sgd.fit(X_train, y_train)\n",
    "sgd_y_pred = sgd.predict(X_test)\n",
    "print(sgd_y_pred)"
   ]
  },
  {
   "cell_type": "code",
   "execution_count": 23,
   "metadata": {},
   "outputs": [
    {
     "name": "stdout",
     "output_type": "stream",
     "text": [
      "['Normal' 'Data_Exfiltration' 'Data_Exfiltration' 'Data_Exfiltration'\n",
      " 'Normal' 'Data_Exfiltration' 'Data_Exfiltration' 'Data_Exfiltration'\n",
      " 'Data_Exfiltration' 'Data_Exfiltration' 'Data_Exfiltration'\n",
      " 'Data_Exfiltration' 'Data_Exfiltration' 'Data_Exfiltration'\n",
      " 'Data_Exfiltration' 'Data_Exfiltration' 'Normal' 'Data_Exfiltration'\n",
      " 'Data_Exfiltration' 'Data_Exfiltration' 'Data_Exfiltration'\n",
      " 'Data_Exfiltration' 'Data_Exfiltration' 'Data_Exfiltration'\n",
      " 'Data_Exfiltration' 'Normal' 'Data_Exfiltration' 'Data_Exfiltration'\n",
      " 'Normal' 'Data_Exfiltration' 'Data_Exfiltration' 'Normal' 'Normal'\n",
      " 'Data_Exfiltration' 'Data_Exfiltration' 'Data_Exfiltration'\n",
      " 'Data_Exfiltration' 'Data_Exfiltration']\n"
     ]
    }
   ],
   "source": [
    "lr = LogisticRegression()\n",
    "lr.fit(X_train, y_train)\n",
    "lr_y_pred = lr.predict(X_test)\n",
    "print(lr_y_pred)"
   ]
  },
  {
   "cell_type": "markdown",
   "metadata": {},
   "source": [
    "# Export Result: Statistical Errors"
   ]
  },
  {
   "cell_type": "markdown",
   "metadata": {},
   "source": [
    "# Export Result"
   ]
  },
  {
   "cell_type": "code",
   "execution_count": 24,
   "metadata": {},
   "outputs": [
    {
     "name": "stdout",
     "output_type": "stream",
     "text": [
      "RF ACC = 1.0\n",
      "ADA ACC = 1.0\n",
      "D TREE ACC = 1.0\n",
      "SVC ACC = 0.6842105263157895\n",
      "GB ACC = 1.0\n",
      "SGD ACC = 0.3157894736842105\n",
      "LR ACC = 0.868421052631579\n"
     ]
    }
   ],
   "source": [
    "print('RF ACC =', accuracy_score(y_test,rf_y_pred))\n",
    "print('ADA ACC =',accuracy_score(y_test,ada_y_pred))\n",
    "print('D TREE ACC =',accuracy_score(y_test,tree_y_pred))\n",
    "print('SVC ACC =',accuracy_score(y_test,svc_y_pred))\n",
    "print('GB ACC =',accuracy_score(y_test,gb_y_pred))\n",
    "print('SGD ACC =',accuracy_score(y_test,sgd_y_pred))\n",
    "print('LR ACC =',accuracy_score(y_test,lr_y_pred))"
   ]
  },
  {
   "cell_type": "code",
   "execution_count": 25,
   "metadata": {},
   "outputs": [
    {
     "name": "stdout",
     "output_type": "stream",
     "text": [
      "RF kappa = 1.0\n",
      "ADA kappa = 1.0\n",
      "D TREE kappa  = 1.0\n",
      "SVC kappa  = 0.0\n",
      "GB kappa  = 1.0\n",
      "SGD kappa  = 0.0\n",
      "LR kappa  = 0.6570397111913358\n"
     ]
    }
   ],
   "source": [
    "from sklearn.metrics import cohen_kappa_score\n",
    "print('RF kappa =', cohen_kappa_score(y_test,rf_y_pred))\n",
    "print('ADA kappa =',cohen_kappa_score(y_test,ada_y_pred))\n",
    "print('D TREE kappa  =',cohen_kappa_score(y_test,tree_y_pred))\n",
    "print('SVC kappa  =',cohen_kappa_score(y_test,svc_y_pred))\n",
    "print('GB kappa  =',cohen_kappa_score(y_test,gb_y_pred))\n",
    "print('SGD kappa  =',cohen_kappa_score(y_test,sgd_y_pred))\n",
    "print('LR kappa  =',cohen_kappa_score(y_test,lr_y_pred))"
   ]
  },
  {
   "cell_type": "code",
   "execution_count": 26,
   "metadata": {},
   "outputs": [
    {
     "name": "stdout",
     "output_type": "stream",
     "text": [
      "RF =                    precision    recall  f1-score   support\n",
      "\n",
      "Data_Exfiltration       1.00      1.00      1.00        26\n",
      "           Normal       1.00      1.00      1.00        12\n",
      "\n",
      "         accuracy                           1.00        38\n",
      "        macro avg       1.00      1.00      1.00        38\n",
      "     weighted avg       1.00      1.00      1.00        38\n",
      "\n",
      "ADA =                    precision    recall  f1-score   support\n",
      "\n",
      "Data_Exfiltration       1.00      1.00      1.00        26\n",
      "           Normal       1.00      1.00      1.00        12\n",
      "\n",
      "         accuracy                           1.00        38\n",
      "        macro avg       1.00      1.00      1.00        38\n",
      "     weighted avg       1.00      1.00      1.00        38\n",
      "\n",
      "TREE =                    precision    recall  f1-score   support\n",
      "\n",
      "Data_Exfiltration       1.00      1.00      1.00        26\n",
      "           Normal       1.00      1.00      1.00        12\n",
      "\n",
      "         accuracy                           1.00        38\n",
      "        macro avg       1.00      1.00      1.00        38\n",
      "     weighted avg       1.00      1.00      1.00        38\n",
      "\n",
      "SVC =                    precision    recall  f1-score   support\n",
      "\n",
      "Data_Exfiltration       0.68      1.00      0.81        26\n",
      "           Normal       0.00      0.00      0.00        12\n",
      "\n",
      "         accuracy                           0.68        38\n",
      "        macro avg       0.34      0.50      0.41        38\n",
      "     weighted avg       0.47      0.68      0.56        38\n",
      "\n",
      "GB =                    precision    recall  f1-score   support\n",
      "\n",
      "Data_Exfiltration       1.00      1.00      1.00        26\n",
      "           Normal       1.00      1.00      1.00        12\n",
      "\n",
      "         accuracy                           1.00        38\n",
      "        macro avg       1.00      1.00      1.00        38\n",
      "     weighted avg       1.00      1.00      1.00        38\n",
      "\n",
      "SGD =                    precision    recall  f1-score   support\n",
      "\n",
      "Data_Exfiltration       0.00      0.00      0.00        26\n",
      "           Normal       0.32      1.00      0.48        12\n",
      "\n",
      "         accuracy                           0.32        38\n",
      "        macro avg       0.16      0.50      0.24        38\n",
      "     weighted avg       0.10      0.32      0.15        38\n",
      "\n",
      "LR =                    precision    recall  f1-score   support\n",
      "\n",
      "Data_Exfiltration       0.84      1.00      0.91        26\n",
      "           Normal       1.00      0.58      0.74        12\n",
      "\n",
      "         accuracy                           0.87        38\n",
      "        macro avg       0.92      0.79      0.82        38\n",
      "     weighted avg       0.89      0.87      0.86        38\n",
      "\n"
     ]
    },
    {
     "name": "stderr",
     "output_type": "stream",
     "text": [
      "C:\\ProgramData\\Anaconda3\\lib\\site-packages\\sklearn\\metrics\\_classification.py:1318: UndefinedMetricWarning: Precision and F-score are ill-defined and being set to 0.0 in labels with no predicted samples. Use `zero_division` parameter to control this behavior.\n",
      "  _warn_prf(average, modifier, msg_start, len(result))\n",
      "C:\\ProgramData\\Anaconda3\\lib\\site-packages\\sklearn\\metrics\\_classification.py:1318: UndefinedMetricWarning: Precision and F-score are ill-defined and being set to 0.0 in labels with no predicted samples. Use `zero_division` parameter to control this behavior.\n",
      "  _warn_prf(average, modifier, msg_start, len(result))\n",
      "C:\\ProgramData\\Anaconda3\\lib\\site-packages\\sklearn\\metrics\\_classification.py:1318: UndefinedMetricWarning: Precision and F-score are ill-defined and being set to 0.0 in labels with no predicted samples. Use `zero_division` parameter to control this behavior.\n",
      "  _warn_prf(average, modifier, msg_start, len(result))\n",
      "C:\\ProgramData\\Anaconda3\\lib\\site-packages\\sklearn\\metrics\\_classification.py:1318: UndefinedMetricWarning: Precision and F-score are ill-defined and being set to 0.0 in labels with no predicted samples. Use `zero_division` parameter to control this behavior.\n",
      "  _warn_prf(average, modifier, msg_start, len(result))\n",
      "C:\\ProgramData\\Anaconda3\\lib\\site-packages\\sklearn\\metrics\\_classification.py:1318: UndefinedMetricWarning: Precision and F-score are ill-defined and being set to 0.0 in labels with no predicted samples. Use `zero_division` parameter to control this behavior.\n",
      "  _warn_prf(average, modifier, msg_start, len(result))\n",
      "C:\\ProgramData\\Anaconda3\\lib\\site-packages\\sklearn\\metrics\\_classification.py:1318: UndefinedMetricWarning: Precision and F-score are ill-defined and being set to 0.0 in labels with no predicted samples. Use `zero_division` parameter to control this behavior.\n",
      "  _warn_prf(average, modifier, msg_start, len(result))\n"
     ]
    }
   ],
   "source": [
    "from sklearn.metrics import classification_report\n",
    "print('RF =', classification_report(y_test,rf_y_pred))\n",
    "print('ADA =', classification_report(y_test,ada_y_pred))\n",
    "print('TREE =', classification_report(y_test,tree_y_pred))\n",
    "print('SVC =', classification_report(y_test,svc_y_pred))\n",
    "print('GB =', classification_report(y_test,gb_y_pred))\n",
    "print('SGD =', classification_report(y_test,sgd_y_pred))\n",
    "print('LR =', classification_report(y_test,lr_y_pred))"
   ]
  },
  {
   "cell_type": "code",
   "execution_count": 27,
   "metadata": {},
   "outputs": [
    {
     "name": "stdout",
     "output_type": "stream",
     "text": [
      "RF CONFUSION = [[26  0]\n",
      " [ 0 12]]\n",
      "ADA CONFUSION = [[26  0]\n",
      " [ 0 12]]\n",
      "TREE CONFUSION = [[26  0]\n",
      " [ 0 12]]\n",
      "SVC CONFUSION = [[26  0]\n",
      " [12  0]]\n",
      "GB CONFUSION = [[26  0]\n",
      " [ 0 12]]\n",
      "SGD CONFUSION = [[ 0 26]\n",
      " [ 0 12]]\n",
      "LR CONFUSION = [[26  0]\n",
      " [ 5  7]]\n"
     ]
    }
   ],
   "source": [
    "from sklearn.metrics import confusion_matrix\n",
    "RF_confusion = confusion_matrix(y_test, rf_y_pred)\n",
    "print('RF CONFUSION =',RF_confusion)\n",
    "\n",
    "ADA_confusion = confusion_matrix(y_test, ada_y_pred)\n",
    "print('ADA CONFUSION =',ADA_confusion)\n",
    "\n",
    "TREE_confusion = confusion_matrix(y_test, tree_y_pred)\n",
    "print('TREE CONFUSION =',TREE_confusion)\n",
    "\n",
    "SVC_confusion = confusion_matrix(y_test, svc_y_pred)\n",
    "print('SVC CONFUSION =',SVC_confusion)\n",
    "\n",
    "GB_confusion = confusion_matrix(y_test, gb_y_pred)\n",
    "print('GB CONFUSION =',GB_confusion)\n",
    "\n",
    "SGD_confusion = confusion_matrix(y_test, sgd_y_pred)\n",
    "print('SGD CONFUSION =',SGD_confusion)\n",
    "\n",
    "LR_confusion = confusion_matrix(y_test, lr_y_pred)\n",
    "print('LR CONFUSION =',LR_confusion)"
   ]
  },
  {
   "cell_type": "markdown",
   "metadata": {},
   "source": []
  },
  {
   "cell_type": "code",
   "execution_count": 28,
   "metadata": {},
   "outputs": [
    {
     "name": "stderr",
     "output_type": "stream",
     "text": [
      "C:\\ProgramData\\Anaconda3\\lib\\site-packages\\sklearn\\utils\\deprecation.py:87: FutureWarning: Function plot_confusion_matrix is deprecated; Function `plot_confusion_matrix` is deprecated in 1.0 and will be removed in 1.2. Use one of the class methods: ConfusionMatrixDisplay.from_predictions or ConfusionMatrixDisplay.from_estimator.\n",
      "  warnings.warn(msg, category=FutureWarning)\n"
     ]
    },
    {
     "data": {
      "image/png": "[encoded data removed]",
      "text/plain": [
       "<Figure size 432x288 with 2 Axes>"
      ]
     },
     "metadata": {
      "needs_background": "light"
     },
     "output_type": "display_data"
    },
    {
     "name": "stderr",
     "output_type": "stream",
     "text": [
      "C:\\ProgramData\\Anaconda3\\lib\\site-packages\\sklearn\\utils\\deprecation.py:87: FutureWarning: Function plot_confusion_matrix is deprecated; Function `plot_confusion_matrix` is deprecated in 1.0 and will be removed in 1.2. Use one of the class methods: ConfusionMatrixDisplay.from_predictions or ConfusionMatrixDisplay.from_estimator.\n",
      "  warnings.warn(msg, category=FutureWarning)\n"
     ]
    },
    {
     "data": {
      "image/png": "[encoded data removed]",
      "text/plain": [
       "<Figure size 432x288 with 2 Axes>"
      ]
     },
     "metadata": {
      "needs_background": "light"
     },
     "output_type": "display_data"
    },
    {
     "name": "stderr",
     "output_type": "stream",
     "text": [
      "C:\\ProgramData\\Anaconda3\\lib\\site-packages\\sklearn\\utils\\deprecation.py:87: FutureWarning: Function plot_confusion_matrix is deprecated; Function `plot_confusion_matrix` is deprecated in 1.0 and will be removed in 1.2. Use one of the class methods: ConfusionMatrixDisplay.from_predictions or ConfusionMatrixDisplay.from_estimator.\n",
      "  warnings.warn(msg, category=FutureWarning)\n"
     ]
    },
    {
     "data": {
      "image/png": "[encoded data removed]",
      "text/plain": [
       "<Figure size 432x288 with 2 Axes>"
      ]
     },
     "metadata": {
      "needs_background": "light"
     },
     "output_type": "display_data"
    },
    {
     "name": "stderr",
     "output_type": "stream",
     "text": [
      "C:\\ProgramData\\Anaconda3\\lib\\site-packages\\sklearn\\utils\\deprecation.py:87: FutureWarning: Function plot_confusion_matrix is deprecated; Function `plot_confusion_matrix` is deprecated in 1.0 and will be removed in 1.2. Use one of the class methods: ConfusionMatrixDisplay.from_predictions or ConfusionMatrixDisplay.from_estimator.\n",
      "  warnings.warn(msg, category=FutureWarning)\n"
     ]
    },
    {
     "data": {
      "image/png": "[encoded data removed]",
      "text/plain": [
       "<Figure size 432x288 with 2 Axes>"
      ]
     },
     "metadata": {
      "needs_background": "light"
     },
     "output_type": "display_data"
    },
    {
     "name": "stderr",
     "output_type": "stream",
     "text": [
      "C:\\ProgramData\\Anaconda3\\lib\\site-packages\\sklearn\\utils\\deprecation.py:87: FutureWarning: Function plot_confusion_matrix is deprecated; Function `plot_confusion_matrix` is deprecated in 1.0 and will be removed in 1.2. Use one of the class methods: ConfusionMatrixDisplay.from_predictions or ConfusionMatrixDisplay.from_estimator.\n",
      "  warnings.warn(msg, category=FutureWarning)\n"
     ]
    },
    {
     "data": {
      "image/png": "[encoded data removed]",
      "text/plain": [
       "<Figure size 432x288 with 2 Axes>"
      ]
     },
     "metadata": {
      "needs_background": "light"
     },
     "output_type": "display_data"
    },
    {
     "name": "stderr",
     "output_type": "stream",
     "text": [
      "C:\\ProgramData\\Anaconda3\\lib\\site-packages\\sklearn\\utils\\deprecation.py:87: FutureWarning: Function plot_confusion_matrix is deprecated; Function `plot_confusion_matrix` is deprecated in 1.0 and will be removed in 1.2. Use one of the class methods: ConfusionMatrixDisplay.from_predictions or ConfusionMatrixDisplay.from_estimator.\n",
      "  warnings.warn(msg, category=FutureWarning)\n"
     ]
    },
    {
     "data": {
      "image/png": "[encoded data removed]",
      "text/plain": [
       "<Figure size 432x288 with 2 Axes>"
      ]
     },
     "metadata": {
      "needs_background": "light"
     },
     "output_type": "display_data"
    },
    {
     "name": "stderr",
     "output_type": "stream",
     "text": [
      "C:\\ProgramData\\Anaconda3\\lib\\site-packages\\sklearn\\utils\\deprecation.py:87: FutureWarning: Function plot_confusion_matrix is deprecated; Function `plot_confusion_matrix` is deprecated in 1.0 and will be removed in 1.2. Use one of the class methods: ConfusionMatrixDisplay.from_predictions or ConfusionMatrixDisplay.from_estimator.\n",
      "  warnings.warn(msg, category=FutureWarning)\n"
     ]
    },
    {
     "data": {
      "image/png": "[encoded data removed]",
      "text/plain": [
       "<Figure size 432x288 with 2 Axes>"
      ]
     },
     "metadata": {
      "needs_background": "light"
     },
     "output_type": "display_data"
    }
   ],
   "source": [
    "import matplotlib.pyplot as plot\n",
    "from sklearn.metrics import plot_confusion_matrix\n",
    "\n",
    "RF=plot_confusion_matrix(rf, X_test, y_test)  \n",
    "plot.show()\n",
    "\n",
    "ada=plot_confusion_matrix(ada, X_test, y_test)  \n",
    "plot.show()\n",
    "\n",
    "DECISION_TREE=plot_confusion_matrix(tree, X_test, y_test)  \n",
    "plot.show()\n",
    "\n",
    "SVC=plot_confusion_matrix(svc, X_test, y_test)  \n",
    "plot.show()\n",
    "\n",
    "GB=plot_confusion_matrix(gb, X_test, y_test)  \n",
    "plot.show()\n",
    "\n",
    "SDG=plot_confusion_matrix(sgd, X_test, y_test)  \n",
    "plot.show()\n",
    "\n",
    "LR=plot_confusion_matrix(lr, X_test, y_test)  \n",
    "plot.show()"
   ]
  },
  {
   "cell_type": "code",
   "execution_count": null,
   "metadata": {},
   "outputs": [],
   "source": []
  },
  {
   "cell_type": "code",
   "execution_count": null,
   "metadata": {},
   "outputs": [],
   "source": []
  },
  {
   "cell_type": "code",
   "execution_count": null,
   "metadata": {},
   "outputs": [],
   "source": []
  },
  {
   "cell_type": "code",
   "execution_count": null,
   "metadata": {},
   "outputs": [],
   "source": []
  },
  {
   "cell_type": "code",
   "execution_count": null,
   "metadata": {},
   "outputs": [],
   "source": []
  },
  {
   "cell_type": "code",
   "execution_count": null,
   "metadata": {},
   "outputs": [],
   "source": []
  },
  {
   "cell_type": "code",
   "execution_count": null,
   "metadata": {},
   "outputs": [],
   "source": []
  },
  {
   "cell_type": "code",
   "execution_count": null,
   "metadata": {},
   "outputs": [],
   "source": []
  },
  {
   "cell_type": "code",
   "execution_count": null,
   "metadata": {},
   "outputs": [],
   "source": []
  },
  {
   "cell_type": "code",
   "execution_count": null,
   "metadata": {},
   "outputs": [],
   "source": []
  },
  {
   "cell_type": "code",
   "execution_count": null,
   "metadata": {},
   "outputs": [],
   "source": []
  }
 ],
 "metadata": {
  "kernelspec": {
   "display_name": "Python 3.9.12 ('base')",
   "language": "python",
   "name": "python3"
  },
  "language_info": {
   "codemirror_mode": {
    "name": "ipython",
    "version": 3
   },
   "file_extension": ".py",
   "mimetype": "text/x-python",
   "name": "python",
   "nbconvert_exporter": "python",
   "pygments_lexer": "ipython3",
   "version": "3.9.12"
  },
  "vscode": {
   "interpreter": {
    "hash": "ad2bdc8ecc057115af97d19610ffacc2b4e99fae6737bb82f5d7fb13d2f2c186"
   }
  }
 },
 "nbformat": 4,
 "nbformat_minor": 2
}
